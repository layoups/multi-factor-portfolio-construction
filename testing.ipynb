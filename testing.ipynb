{
 "cells": [
  {
   "cell_type": "code",
   "execution_count": 1,
   "metadata": {},
   "outputs": [],
   "source": [
    "import numpy as np\n",
    "import pandas as pd\n",
    "from datetime import datetime\n",
    "from dateutil.relativedelta import relativedelta"
   ]
  },
  {
   "cell_type": "code",
   "execution_count": 46,
   "metadata": {},
   "outputs": [],
   "source": [
    "theSedols = pd.read_csv(\"data/sedols.csv\")"
   ]
  },
  {
   "cell_type": "markdown",
   "metadata": {},
   "source": [
    "# FACTORS"
   ]
  },
  {
   "cell_type": "code",
   "execution_count": 4,
   "metadata": {},
   "outputs": [],
   "source": [
    "factors = pd.read_csv(\n",
    "    './data/rus1000_stocks_factors.csv', \n",
    "    on_bad_lines='skip', \n",
    "    header = 2, \n",
    "    # nrows = 10000, \n",
    "    low_memory=False, \n",
    "    converters={'SEDOL': (lambda x: x[:6])},\n",
    "    parse_dates=['DATE'], \n",
    "    index_col=[3, 2]\n",
    ").groupby(\n",
    "    ['Symbol', 'DATE']\n",
    ").fillna(\n",
    "    method='ffill'\n",
    ").sort_index()"
   ]
  },
  {
   "cell_type": "code",
   "execution_count": 4,
   "metadata": {},
   "outputs": [
    {
     "ename": "NameError",
     "evalue": "name 'factors' is not defined",
     "output_type": "error",
     "traceback": [
      "\u001b[0;31m---------------------------------------------------------------------------\u001b[0m",
      "\u001b[0;31mNameError\u001b[0m                                 Traceback (most recent call last)",
      "\u001b[0;32m/var/folders/mr/bk7rgp3x59l2bnc9dxddl1t00000gn/T/ipykernel_42333/1059831808.py\u001b[0m in \u001b[0;36m<module>\u001b[0;34m\u001b[0m\n\u001b[0;32m----> 1\u001b[0;31m \u001b[0mfactors\u001b[0m\u001b[0;34m.\u001b[0m\u001b[0mhead\u001b[0m\u001b[0;34m(\u001b[0m\u001b[0;34m)\u001b[0m\u001b[0;34m\u001b[0m\u001b[0;34m\u001b[0m\u001b[0m\n\u001b[0m",
      "\u001b[0;31mNameError\u001b[0m: name 'factors' is not defined"
     ]
    }
   ],
   "source": [
    "factors.head()"
   ]
  },
  {
   "cell_type": "code",
   "execution_count": 6,
   "metadata": {},
   "outputs": [],
   "source": [
    "factor_sedols = factors.index.get_level_values(\"SEDOL\").unique()"
   ]
  },
  {
   "cell_type": "markdown",
   "metadata": {},
   "source": [
    "# STOCK RETURNS"
   ]
  },
  {
   "cell_type": "code",
   "execution_count": 7,
   "metadata": {},
   "outputs": [],
   "source": [
    "stock_returns = pd.read_csv(\n",
    "    \"./data/cleaned_return_data_sc.csv\", \n",
    "    # nrows=3, \n",
    "    parse_dates=['DATE'], \n",
    "    index_col=0\n",
    ").fillna(method='ffill').fillna(0)"
   ]
  },
  {
   "cell_type": "code",
   "execution_count": 8,
   "metadata": {},
   "outputs": [],
   "source": [
    "return_sedols = stock_returns.columns"
   ]
  },
  {
   "cell_type": "code",
   "execution_count": 18,
   "metadata": {},
   "outputs": [
    {
     "data": {
      "text/html": [
       "<div>\n",
       "<style scoped>\n",
       "    .dataframe tbody tr th:only-of-type {\n",
       "        vertical-align: middle;\n",
       "    }\n",
       "\n",
       "    .dataframe tbody tr th {\n",
       "        vertical-align: top;\n",
       "    }\n",
       "\n",
       "    .dataframe thead th {\n",
       "        text-align: right;\n",
       "    }\n",
       "</style>\n",
       "<table border=\"1\" class=\"dataframe\">\n",
       "  <thead>\n",
       "    <tr style=\"text-align: right;\">\n",
       "      <th></th>\n",
       "      <th>000124</th>\n",
       "      <th>000163</th>\n",
       "      <th>000191</th>\n",
       "      <th>000312</th>\n",
       "      <th>000371</th>\n",
       "      <th>000415</th>\n",
       "      <th>000424</th>\n",
       "      <th>000432</th>\n",
       "      <th>000445</th>\n",
       "      <th>000495</th>\n",
       "      <th>...</th>\n",
       "      <th>BZCRNM</th>\n",
       "      <th>BZCTKP</th>\n",
       "      <th>BZHJN8</th>\n",
       "      <th>BZHJN9</th>\n",
       "      <th>BZHJNF</th>\n",
       "      <th>BZHJNG</th>\n",
       "      <th>BZHJNJ</th>\n",
       "      <th>BZHJNL</th>\n",
       "      <th>BZHJNM</th>\n",
       "      <th>BZHJVR</th>\n",
       "    </tr>\n",
       "    <tr>\n",
       "      <th>DATE</th>\n",
       "      <th></th>\n",
       "      <th></th>\n",
       "      <th></th>\n",
       "      <th></th>\n",
       "      <th></th>\n",
       "      <th></th>\n",
       "      <th></th>\n",
       "      <th></th>\n",
       "      <th></th>\n",
       "      <th></th>\n",
       "      <th></th>\n",
       "      <th></th>\n",
       "      <th></th>\n",
       "      <th></th>\n",
       "      <th></th>\n",
       "      <th></th>\n",
       "      <th></th>\n",
       "      <th></th>\n",
       "      <th></th>\n",
       "      <th></th>\n",
       "      <th></th>\n",
       "    </tr>\n",
       "  </thead>\n",
       "  <tbody>\n",
       "    <tr>\n",
       "      <th>1995-01-01</th>\n",
       "      <td>-0.119</td>\n",
       "      <td>0.153</td>\n",
       "      <td>NaN</td>\n",
       "      <td>0.484</td>\n",
       "      <td>NaN</td>\n",
       "      <td>0.535</td>\n",
       "      <td>NaN</td>\n",
       "      <td>0.173</td>\n",
       "      <td>0.062</td>\n",
       "      <td>0.565</td>\n",
       "      <td>...</td>\n",
       "      <td>NaN</td>\n",
       "      <td>NaN</td>\n",
       "      <td>NaN</td>\n",
       "      <td>NaN</td>\n",
       "      <td>NaN</td>\n",
       "      <td>NaN</td>\n",
       "      <td>NaN</td>\n",
       "      <td>NaN</td>\n",
       "      <td>NaN</td>\n",
       "      <td>NaN</td>\n",
       "    </tr>\n",
       "    <tr>\n",
       "      <th>1995-02-01</th>\n",
       "      <td>3.014</td>\n",
       "      <td>-0.719</td>\n",
       "      <td>NaN</td>\n",
       "      <td>-0.196</td>\n",
       "      <td>NaN</td>\n",
       "      <td>0.562</td>\n",
       "      <td>NaN</td>\n",
       "      <td>-0.143</td>\n",
       "      <td>0.096</td>\n",
       "      <td>0.554</td>\n",
       "      <td>...</td>\n",
       "      <td>NaN</td>\n",
       "      <td>NaN</td>\n",
       "      <td>NaN</td>\n",
       "      <td>NaN</td>\n",
       "      <td>NaN</td>\n",
       "      <td>NaN</td>\n",
       "      <td>NaN</td>\n",
       "      <td>NaN</td>\n",
       "      <td>NaN</td>\n",
       "      <td>NaN</td>\n",
       "    </tr>\n",
       "    <tr>\n",
       "      <th>1995-03-01</th>\n",
       "      <td>0.372</td>\n",
       "      <td>0.695</td>\n",
       "      <td>NaN</td>\n",
       "      <td>0.602</td>\n",
       "      <td>NaN</td>\n",
       "      <td>0.476</td>\n",
       "      <td>NaN</td>\n",
       "      <td>0.084</td>\n",
       "      <td>0.942</td>\n",
       "      <td>0.855</td>\n",
       "      <td>...</td>\n",
       "      <td>NaN</td>\n",
       "      <td>NaN</td>\n",
       "      <td>NaN</td>\n",
       "      <td>NaN</td>\n",
       "      <td>NaN</td>\n",
       "      <td>NaN</td>\n",
       "      <td>NaN</td>\n",
       "      <td>NaN</td>\n",
       "      <td>NaN</td>\n",
       "      <td>NaN</td>\n",
       "    </tr>\n",
       "    <tr>\n",
       "      <th>1995-04-01</th>\n",
       "      <td>-0.215</td>\n",
       "      <td>0.403</td>\n",
       "      <td>NaN</td>\n",
       "      <td>0.899</td>\n",
       "      <td>NaN</td>\n",
       "      <td>-0.112</td>\n",
       "      <td>NaN</td>\n",
       "      <td>0.461</td>\n",
       "      <td>-0.078</td>\n",
       "      <td>0.860</td>\n",
       "      <td>...</td>\n",
       "      <td>NaN</td>\n",
       "      <td>NaN</td>\n",
       "      <td>NaN</td>\n",
       "      <td>NaN</td>\n",
       "      <td>NaN</td>\n",
       "      <td>NaN</td>\n",
       "      <td>NaN</td>\n",
       "      <td>NaN</td>\n",
       "      <td>NaN</td>\n",
       "      <td>NaN</td>\n",
       "    </tr>\n",
       "    <tr>\n",
       "      <th>1995-05-01</th>\n",
       "      <td>-0.127</td>\n",
       "      <td>1.186</td>\n",
       "      <td>NaN</td>\n",
       "      <td>-0.962</td>\n",
       "      <td>NaN</td>\n",
       "      <td>0.127</td>\n",
       "      <td>NaN</td>\n",
       "      <td>-0.330</td>\n",
       "      <td>-0.101</td>\n",
       "      <td>-0.450</td>\n",
       "      <td>...</td>\n",
       "      <td>NaN</td>\n",
       "      <td>NaN</td>\n",
       "      <td>NaN</td>\n",
       "      <td>NaN</td>\n",
       "      <td>NaN</td>\n",
       "      <td>NaN</td>\n",
       "      <td>NaN</td>\n",
       "      <td>NaN</td>\n",
       "      <td>NaN</td>\n",
       "      <td>NaN</td>\n",
       "    </tr>\n",
       "  </tbody>\n",
       "</table>\n",
       "<p>5 rows × 41747 columns</p>\n",
       "</div>"
      ],
      "text/plain": [
       "            000124  000163  000191  000312  000371  000415  000424  000432  \\\n",
       "DATE                                                                         \n",
       "1995-01-01  -0.119   0.153     NaN   0.484     NaN   0.535     NaN   0.173   \n",
       "1995-02-01   3.014  -0.719     NaN  -0.196     NaN   0.562     NaN  -0.143   \n",
       "1995-03-01   0.372   0.695     NaN   0.602     NaN   0.476     NaN   0.084   \n",
       "1995-04-01  -0.215   0.403     NaN   0.899     NaN  -0.112     NaN   0.461   \n",
       "1995-05-01  -0.127   1.186     NaN  -0.962     NaN   0.127     NaN  -0.330   \n",
       "\n",
       "            000445  000495  ...  BZCRNM  BZCTKP  BZHJN8  BZHJN9  BZHJNF  \\\n",
       "DATE                        ...                                           \n",
       "1995-01-01   0.062   0.565  ...     NaN     NaN     NaN     NaN     NaN   \n",
       "1995-02-01   0.096   0.554  ...     NaN     NaN     NaN     NaN     NaN   \n",
       "1995-03-01   0.942   0.855  ...     NaN     NaN     NaN     NaN     NaN   \n",
       "1995-04-01  -0.078   0.860  ...     NaN     NaN     NaN     NaN     NaN   \n",
       "1995-05-01  -0.101  -0.450  ...     NaN     NaN     NaN     NaN     NaN   \n",
       "\n",
       "            BZHJNG  BZHJNJ  BZHJNL  BZHJNM  BZHJVR  \n",
       "DATE                                                \n",
       "1995-01-01     NaN     NaN     NaN     NaN     NaN  \n",
       "1995-02-01     NaN     NaN     NaN     NaN     NaN  \n",
       "1995-03-01     NaN     NaN     NaN     NaN     NaN  \n",
       "1995-04-01     NaN     NaN     NaN     NaN     NaN  \n",
       "1995-05-01     NaN     NaN     NaN     NaN     NaN  \n",
       "\n",
       "[5 rows x 41747 columns]"
      ]
     },
     "execution_count": 18,
     "metadata": {},
     "output_type": "execute_result"
    }
   ],
   "source": [
    "stock_returns.head()"
   ]
  },
  {
   "cell_type": "code",
   "execution_count": 3,
   "metadata": {},
   "outputs": [
    {
     "ename": "NameError",
     "evalue": "name 'stock_returns' is not defined",
     "output_type": "error",
     "traceback": [
      "\u001b[0;31m---------------------------------------------------------------------------\u001b[0m",
      "\u001b[0;31mNameError\u001b[0m                                 Traceback (most recent call last)",
      "\u001b[0;32m/var/folders/mr/bk7rgp3x59l2bnc9dxddl1t00000gn/T/ipykernel_42333/1486204992.py\u001b[0m in \u001b[0;36m<module>\u001b[0;34m\u001b[0m\n\u001b[0;32m----> 1\u001b[0;31m \u001b[0mstock_returns\u001b[0m\u001b[0;34m.\u001b[0m\u001b[0mindex\u001b[0m\u001b[0;34m\u001b[0m\u001b[0;34m\u001b[0m\u001b[0m\n\u001b[0m",
      "\u001b[0;31mNameError\u001b[0m: name 'stock_returns' is not defined"
     ]
    }
   ],
   "source": [
    "stock_returns.index"
   ]
  },
  {
   "cell_type": "markdown",
   "metadata": {},
   "source": [
    "# FACTOR-RETURN CONSISTENCY"
   ]
  },
  {
   "cell_type": "code",
   "execution_count": 9,
   "metadata": {},
   "outputs": [],
   "source": [
    "common_sedols = []\n",
    "for s in return_sedols:\n",
    "    if s in factor_sedols:\n",
    "        common_sedols += [s]"
   ]
  },
  {
   "cell_type": "code",
   "execution_count": null,
   "metadata": {},
   "outputs": [],
   "source": [
    "sedols = pd.Series(common_sedols, name=\"SEDOLS\")\n",
    "sedols.to_csv(\"data/sedols.csv\", index=False)"
   ]
  },
  {
   "cell_type": "code",
   "execution_count": 13,
   "metadata": {},
   "outputs": [],
   "source": [
    "factors.loc[(common_sedols[:300],), :].to_csv(\"data/rus1000_stocks_factors_subset.csv\")"
   ]
  },
  {
   "cell_type": "code",
   "execution_count": 14,
   "metadata": {},
   "outputs": [],
   "source": [
    "stock_returns[common_sedols].to_csv(\"data/cleaned_return_data.csv\")"
   ]
  },
  {
   "cell_type": "markdown",
   "metadata": {},
   "source": [
    "# BENCHMARK RETURNS"
   ]
  },
  {
   "cell_type": "code",
   "execution_count": 25,
   "metadata": {},
   "outputs": [],
   "source": [
    "benchmark_returns = pd.read_csv(\n",
    "    './data/Benchmark Returns.csv', \n",
    "    on_bad_lines='skip', \n",
    "    # nrows = 100, \n",
    "    low_memory=False, \n",
    "    parse_dates=['Date'], \n",
    "    index_col=[0]\n",
    ")\n",
    "benchmark_returns.index.name = \"DATE\""
   ]
  },
  {
   "cell_type": "code",
   "execution_count": 26,
   "metadata": {},
   "outputs": [
    {
     "data": {
      "text/html": [
       "<div>\n",
       "<style scoped>\n",
       "    .dataframe tbody tr th:only-of-type {\n",
       "        vertical-align: middle;\n",
       "    }\n",
       "\n",
       "    .dataframe tbody tr th {\n",
       "        vertical-align: top;\n",
       "    }\n",
       "\n",
       "    .dataframe thead th {\n",
       "        text-align: right;\n",
       "    }\n",
       "</style>\n",
       "<table border=\"1\" class=\"dataframe\">\n",
       "  <thead>\n",
       "    <tr style=\"text-align: right;\">\n",
       "      <th></th>\n",
       "      <th>MSCI EM Bench Return</th>\n",
       "      <th>Russell 1000 Bench Return</th>\n",
       "      <th>MSCI ACWIXUS Bench Return</th>\n",
       "    </tr>\n",
       "    <tr>\n",
       "      <th>DATE</th>\n",
       "      <th></th>\n",
       "      <th></th>\n",
       "      <th></th>\n",
       "    </tr>\n",
       "  </thead>\n",
       "  <tbody>\n",
       "    <tr>\n",
       "      <th>2002-12-31</th>\n",
       "      <td>-0.033226</td>\n",
       "      <td>-0.056599</td>\n",
       "      <td>-0.032306</td>\n",
       "    </tr>\n",
       "    <tr>\n",
       "      <th>2003-01-31</th>\n",
       "      <td>-0.004354</td>\n",
       "      <td>-0.024234</td>\n",
       "      <td>-0.035107</td>\n",
       "    </tr>\n",
       "    <tr>\n",
       "      <th>2003-02-28</th>\n",
       "      <td>-0.026990</td>\n",
       "      <td>-0.015472</td>\n",
       "      <td>-0.020262</td>\n",
       "    </tr>\n",
       "    <tr>\n",
       "      <th>2003-03-31</th>\n",
       "      <td>-0.028355</td>\n",
       "      <td>0.010351</td>\n",
       "      <td>-0.019398</td>\n",
       "    </tr>\n",
       "    <tr>\n",
       "      <th>2003-04-30</th>\n",
       "      <td>0.089072</td>\n",
       "      <td>0.080728</td>\n",
       "      <td>0.096360</td>\n",
       "    </tr>\n",
       "    <tr>\n",
       "      <th>...</th>\n",
       "      <td>...</td>\n",
       "      <td>...</td>\n",
       "      <td>...</td>\n",
       "    </tr>\n",
       "    <tr>\n",
       "      <th>2019-04-30</th>\n",
       "      <td>0.021241</td>\n",
       "      <td>0.040384</td>\n",
       "      <td>0.027170</td>\n",
       "    </tr>\n",
       "    <tr>\n",
       "      <th>2019-05-31</th>\n",
       "      <td>-0.072246</td>\n",
       "      <td>-0.063724</td>\n",
       "      <td>-0.052596</td>\n",
       "    </tr>\n",
       "    <tr>\n",
       "      <th>2019-06-28</th>\n",
       "      <td>0.063223</td>\n",
       "      <td>0.070204</td>\n",
       "      <td>0.060711</td>\n",
       "    </tr>\n",
       "    <tr>\n",
       "      <th>2019-07-31</th>\n",
       "      <td>-0.011400</td>\n",
       "      <td>0.015530</td>\n",
       "      <td>-0.011777</td>\n",
       "    </tr>\n",
       "    <tr>\n",
       "      <th>2019-08-30</th>\n",
       "      <td>-0.048471</td>\n",
       "      <td>-0.018316</td>\n",
       "      <td>-0.030684</td>\n",
       "    </tr>\n",
       "  </tbody>\n",
       "</table>\n",
       "<p>201 rows × 3 columns</p>\n",
       "</div>"
      ],
      "text/plain": [
       "            MSCI EM Bench Return  Russell 1000 Bench Return  \\\n",
       "DATE                                                          \n",
       "2002-12-31             -0.033226                  -0.056599   \n",
       "2003-01-31             -0.004354                  -0.024234   \n",
       "2003-02-28             -0.026990                  -0.015472   \n",
       "2003-03-31             -0.028355                   0.010351   \n",
       "2003-04-30              0.089072                   0.080728   \n",
       "...                          ...                        ...   \n",
       "2019-04-30              0.021241                   0.040384   \n",
       "2019-05-31             -0.072246                  -0.063724   \n",
       "2019-06-28              0.063223                   0.070204   \n",
       "2019-07-31             -0.011400                   0.015530   \n",
       "2019-08-30             -0.048471                  -0.018316   \n",
       "\n",
       "            MSCI ACWIXUS Bench Return  \n",
       "DATE                                   \n",
       "2002-12-31                  -0.032306  \n",
       "2003-01-31                  -0.035107  \n",
       "2003-02-28                  -0.020262  \n",
       "2003-03-31                  -0.019398  \n",
       "2003-04-30                   0.096360  \n",
       "...                               ...  \n",
       "2019-04-30                   0.027170  \n",
       "2019-05-31                  -0.052596  \n",
       "2019-06-28                   0.060711  \n",
       "2019-07-31                  -0.011777  \n",
       "2019-08-30                  -0.030684  \n",
       "\n",
       "[201 rows x 3 columns]"
      ]
     },
     "execution_count": 26,
     "metadata": {},
     "output_type": "execute_result"
    }
   ],
   "source": [
    "benchmark_returns"
   ]
  },
  {
   "cell_type": "markdown",
   "metadata": {},
   "source": [
    "# MISC"
   ]
  },
  {
   "cell_type": "code",
   "execution_count": 5,
   "metadata": {},
   "outputs": [],
   "source": [
    "stock_returns = pd.read_csv(\n",
    "        \"data/cleaned_return_data.csv\", \n",
    "        parse_dates=[\"DATE\"],\n",
    "        index_col=[0]\n",
    "    )"
   ]
  },
  {
   "cell_type": "code",
   "execution_count": null,
   "metadata": {},
   "outputs": [],
   "source": []
  }
 ],
 "metadata": {
  "interpreter": {
   "hash": "b7c80a8d2c8c3feabecbb58a42c05ad31eb25e6686768c03069bea5ec1b2357f"
  },
  "kernelspec": {
   "display_name": "Python 3.8.8 64-bit ('base': conda)",
   "language": "python",
   "name": "python3"
  },
  "language_info": {
   "codemirror_mode": {
    "name": "ipython",
    "version": 3
   },
   "file_extension": ".py",
   "mimetype": "text/x-python",
   "name": "python",
   "nbconvert_exporter": "python",
   "pygments_lexer": "ipython3",
   "version": "3.8.8"
  },
  "orig_nbformat": 4
 },
 "nbformat": 4,
 "nbformat_minor": 2
}
